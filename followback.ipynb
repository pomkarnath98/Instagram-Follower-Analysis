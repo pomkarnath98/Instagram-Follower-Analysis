{
 "cells": [
  {
   "cell_type": "code",
   "execution_count": 9,
   "metadata": {},
   "outputs": [],
   "source": [
    "import pandas as pd\n",
    "\n",
    "follow_data = pd.read_csv(\"C:/Users/JANAKINATH/Analyticscosm/instaloader1/clean_data.csv\")\n",
    "follower_data = pd.read_csv(\"C:/Users/JANAKINATH/Analyticscosm/instaloader1/FollowBack.csv\")\n",
    "\n",
    "follow = list(follow_data.username)\n",
    "follower = list(follower_data.username)\n",
    "\n",
    "follow_back = [1 if user in follower else 0 for user in follow]\n",
    "\n",
    "follow_data.follow_back = follow_back\n",
    "\n",
    "follow_data.to_csv('./clean_followback.csv', index=False) "
   ]
  }
 ],
 "metadata": {
  "kernelspec": {
   "display_name": "Python 3",
   "language": "python",
   "name": "python3"
  },
  "language_info": {
   "codemirror_mode": {
    "name": "ipython",
    "version": 3
   },
   "file_extension": ".py",
   "mimetype": "text/x-python",
   "name": "python",
   "nbconvert_exporter": "python",
   "pygments_lexer": "ipython3",
   "version": "3.7.3"
  }
 },
 "nbformat": 4,
 "nbformat_minor": 2
}
